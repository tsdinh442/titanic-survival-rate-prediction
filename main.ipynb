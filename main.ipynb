{
 "cells": [
  {
   "cell_type": "markdown",
   "id": "b0e94bd1-8952-4e5a-8729-87f450144d63",
   "metadata": {
    "tags": []
   },
   "source": [
    "<h1> Titanic - Survival Rate Prediction </h1>\n",
    "\n",
    "- Objective: Predict the survival rate of each passenger on the Titanic by employing the following algorithms and subsequently comparing their respective results\n",
    "    1. Logistic Regression\n",
    "    2. XGBoost\n",
    "    3. SVM\n",
    "    \n",
    "- Steps to follow:\n",
    "    1. Data Collection: Download and unzip the dataset from Kaggle\n",
    "    2. Exploratory Data Analysis\n",
    "    3. Data Preprocessing \n",
    "    4. Feature Selection\n",
    "    5. Splitting the Data\n",
    "    6. Model Selection\n",
    "    7. Model Training and Evaluation\n",
    "    8. Hyperparameter Tuning\n",
    "    9. Model Validation "
   ]
  },
  {
   "cell_type": "markdown",
   "id": "c9bb7a38-7d6b-475e-a1cf-fb8fb86d0023",
   "metadata": {},
   "source": [
    "\n",
    "<br>\n",
    "<h3><b> 1. Data Collection </b></h3>"
   ]
  },
  {
   "cell_type": "code",
   "execution_count": 13,
   "id": "74086222-6014-4a34-92a0-9028da4a2821",
   "metadata": {
    "tags": []
   },
   "outputs": [
    {
     "name": "stdout",
     "output_type": "stream",
     "text": [
      "titanic.zip: Skipping, found more recently modified local copy (use --force to force download)\n"
     ]
    }
   ],
   "source": [
    "import kaggle\n",
    "import os\n",
    "\n",
    "os.environ['KAGGLE_CONFIG_DIR'] = \"/Users/tungdinh/.kaggle\"\n",
    "\n",
    "!kaggle competitions download -c titanic"
   ]
  },
  {
   "cell_type": "code",
   "execution_count": 8,
   "id": "03446ed2-7fad-4f06-b964-5f034d2e07b1",
   "metadata": {
    "tags": []
   },
   "outputs": [],
   "source": [
    "import zipfile\n",
    "\n",
    "with zipfile.ZipFile('titanic.zip', 'r') as zip_ref:\n",
    "    zip_ref.extractall('dataset')"
   ]
  },
  {
   "cell_type": "markdown",
   "id": "3ce4ece6-d0f4-44d3-8367-fd372b995f10",
   "metadata": {},
   "source": [
    "<br>\n",
    "<h3><b> 2. Exploratory Data Analysis </b></h3>"
   ]
  },
  {
   "cell_type": "code",
   "execution_count": null,
   "id": "11fde3ae-52b9-42e6-a599-8890c00aa52d",
   "metadata": {},
   "outputs": [],
   "source": []
  }
 ],
 "metadata": {
  "kernelspec": {
   "display_name": "Python 3.10 (tensorflow)",
   "language": "python",
   "name": "tensorflow"
  },
  "language_info": {
   "codemirror_mode": {
    "name": "ipython",
    "version": 3
   },
   "file_extension": ".py",
   "mimetype": "text/x-python",
   "name": "python",
   "nbconvert_exporter": "python",
   "pygments_lexer": "ipython3",
   "version": "3.10.11"
  }
 },
 "nbformat": 4,
 "nbformat_minor": 5
}
